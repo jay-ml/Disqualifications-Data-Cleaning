{
 "cells": [
  {
   "cell_type": "code",
   "execution_count": null,
   "id": "ef7a34a1-5a18-42a3-9d7f-d8c27007b038",
   "metadata": {},
   "outputs": [],
   "source": [
    "import numpy as np\n",
    "import pandas as pd\n",
    "df = pd.read_csv('dqs_23-24_all.csv', header=[0,1])\n",
    "df = df.fillna(0)\n",
    "\n",
    "first_name = \"\"\n",
    "new_columns = []\n",
    "first = True\n",
    "for name in df.columns:\n",
    "    if first:\n",
    "        first = False\n",
    "        new_col = tuple([first_name, name[1]])\n",
    "    elif \"Unnamed\" in name[0]:\n",
    "        new_col = tuple([first_name, name[1]])\n",
    "    else:\n",
    "        first_name = name[0]\n",
    "        new_col = name\n",
    "    new_columns.append(new_col)\n",
    "df.columns = new_columns\n",
    "\n",
    "school = ('', 'SCHOOL')\n",
    "sports = ['','BASEBALL-V','BASKETBALL-V BOYS','BASKETBALL-V GIRLS','FIELD HOCKEY-V','FOOTBALL-V','GOLF-FALL','GOLF-SPRING','GYMNASTICS',\n",
    "        'Ice Hockey-V BOYS','Ice Hockey-V GIRLS','INDOOR TRACK','LACROSSE-V BOYS','LACROSSE-V GIRLS','RUGBY BOYS','RUGBY GIRLS',\n",
    "       'SOCCER-V BOYS','SOCCER-V GIRLS','SOFTBALL-V','SKI','SWIMMING-GIRLS','SWIMMING-BOYS','TENNIS-BOYS','TENNIS-GIRLS',\n",
    "        'TRACK & FIELD-BOYS','TRACK & FIELD-GIRLS','VOLLEYBALL-V BOYS','VOLLEYBALL-V GIRLS','WRESTLING','X COUNTRY',\n",
    "        'BASEBALL-V','GOLF-SPRING','LACROSSE-V BOYS','LACROSSE-V GIRLS','RUGBY BOYS','RUGBY GIRLS','SOFTBALL-V','TENNIS-BOYS',\n",
    "        'TENNIS-GIRLS','TRACK & FIELD-BOYS','TRACK & FIELD-GIRLS','VOLLEYBALL-V BOYS']\n",
    "pd.set_option('display.max_columns', None)\n",
    "pd.set_option('display.max_rows', None)\n",
    "\n",
    "l = []\n",
    "for col in df:\n",
    "    if col[0] not in sports:\n",
    "        print(col)\n",
    "        df = df.drop(col, axis=1)\n",
    "for col in df:\n",
    "    l.append(col[1])\n",
    "l = list(set(l))\n",
    "print(l)"
   ]
  },
  {
   "cell_type": "code",
   "execution_count": null,
   "id": "29fcbdeb-8f59-4f4b-b8b2-ee163b5427dc",
   "metadata": {},
   "outputs": [],
   "source": [
    "result = pd.DataFrame()\n",
    "\n",
    "for i in range(df.shape[0]):\n",
    "    scname = df.iloc[i][school]\n",
    "    old_name = ''\n",
    "    for col in df:\n",
    "        m = [(scname,col[0])]\n",
    "        if col[1] == '1 Game':\n",
    "            m.append(df.iloc[i][col])\n",
    "            m.append(0)\n",
    "            m.append(0)\n",
    "            m.append(0)\n",
    "            m.append(0)\n",
    "        elif col[1] == '2 Game':\n",
    "            m.append(0)\n",
    "            m.append(df.iloc[i][col])\n",
    "            m.append(0)\n",
    "            m.append(0)\n",
    "            m.append(0) \n",
    "        elif col[1] == '1 yr':\n",
    "            m.append(0)\n",
    "            m.append(0) \n",
    "            m.append(df.iloc[i][col])\n",
    "            m.append(0)\n",
    "            m.append(0)\n",
    "        elif col[1] == 'Tour':\n",
    "            m.append(0)\n",
    "            m.append(0) \n",
    "            m.append(0)\n",
    "            m.append(df.iloc[i][col])\n",
    "            m.append(0)\n",
    "        elif col[1] == 'Coach':\n",
    "            m.append(0)\n",
    "            m.append(0) \n",
    "            m.append(0)\n",
    "            m.append(0)\n",
    "            m.append(df.iloc[i][col])\n",
    "        else:\n",
    "            continue\n",
    "        row = pd.DataFrame([m], columns=['SchoolSport','1 Game','2 Game','1 yr','Tour','Coach'])\n",
    "        result = pd.concat([result, row], ignore_index=True)\n",
    "    \n",
    "# result['Total DQs'] = result.sum(axis=1, numeric_only=True)"
   ]
  },
  {
   "cell_type": "code",
   "execution_count": null,
   "id": "b8de0c74-f056-4964-bbf6-306d2b0f1547",
   "metadata": {},
   "outputs": [],
   "source": [
    "res = pd.DataFrame()\n",
    "for ss in result['SchoolSport'].unique():\n",
    "    cur = result[result['SchoolSport'] == ss]\n",
    "    m = [ss[0], ss[1]]\n",
    "    m.append(cur['1 Game'].sum())\n",
    "    m.append(cur['2 Game'].sum())\n",
    "    m.append(cur['1 yr'].sum())\n",
    "    m.append(cur['Tour'].sum())\n",
    "    m.append(cur['Coach'].sum())\n",
    "    mr = pd.DataFrame([m], columns=['School','Sport','1 Game','2 Game','1 yr','Tour','Coach'])\n",
    "    res = pd.concat([res, mr], ignore_index=True)"
   ]
  },
  {
   "cell_type": "code",
   "execution_count": null,
   "id": "f3b60b12-6bcb-40be-a756-f6b2fc449309",
   "metadata": {},
   "outputs": [],
   "source": [
    "df = res\n",
    "df['Total DQs'] = df.sum(axis=1, numeric_only=True)\n",
    "df = df.loc[df['Total DQs'] > 1]\n",
    "print(df)"
   ]
  },
  {
   "cell_type": "code",
   "execution_count": null,
   "id": "171801f1-e576-457c-aadf-d85d4afbb74b",
   "metadata": {},
   "outputs": [],
   "source": [
    "df = df.loc[df['School'] != 'TOTAL SCHOOLS  (FY24)']\n",
    "df.reset_index(drop=True, inplace=True)\n",
    "print(df)"
   ]
  },
  {
   "cell_type": "code",
   "execution_count": null,
   "id": "5cd3fa08-cbe1-4af6-9dc5-3fe3a83600ff",
   "metadata": {},
   "outputs": [],
   "source": [
    "# df.to_csv('dqs_s23_varsity.csv')\n",
    "# df_spring = df"
   ]
  },
  {
   "cell_type": "code",
   "execution_count": null,
   "id": "c112a67a-3b62-4f0c-b7fa-b043a9f443cb",
   "metadata": {},
   "outputs": [],
   "source": [
    "df = df.sort_values('School', ignore_index=True)\n",
    "print(df)"
   ]
  },
  {
   "cell_type": "code",
   "execution_count": null,
   "id": "94ee3a77-6477-4478-b03d-279be350ff8e",
   "metadata": {},
   "outputs": [],
   "source": [
    "df.to_csv('dqs_23-24_sorted.csv')"
   ]
  },
  {
   "cell_type": "code",
   "execution_count": null,
   "id": "c3dd5d61-34b0-4562-85cd-0a4ec6dc471a",
   "metadata": {},
   "outputs": [],
   "source": []
  },
  {
   "cell_type": "code",
   "execution_count": null,
   "id": "cc477211-61bd-4c17-a8e0-482980ad8f40",
   "metadata": {},
   "outputs": [],
   "source": []
  },
  {
   "cell_type": "code",
   "execution_count": null,
   "id": "4e9c421b-6103-4834-9546-6ddba4d73d27",
   "metadata": {},
   "outputs": [],
   "source": []
  },
  {
   "cell_type": "code",
   "execution_count": null,
   "id": "1246f77e-0245-4ddf-a771-d91554827fd3",
   "metadata": {},
   "outputs": [],
   "source": [
    "import numpy as np\n",
    "import pandas as pd\n",
    "df = pd.read_csv('dqs_23-24.csv', header=[0,1])\n",
    "df = df.fillna(0)\n",
    "\n",
    "first_name = \"\"\n",
    "new_columns = []\n",
    "first = True\n",
    "for name in df.columns:\n",
    "    if first:\n",
    "        first = False\n",
    "        new_col = tuple([first_name, name[1]])\n",
    "    elif \"Unnamed\" in name[0]:\n",
    "        new_col = tuple([first_name, name[1]])\n",
    "    else:\n",
    "        first_name = name[0]\n",
    "        new_col = name\n",
    "    new_columns.append(new_col)\n",
    "df.columns = new_columns\n",
    "\n",
    "school = ('', 'SCHOOL')\n",
    "rows = ['','BASEBALL-V','BASKETBALL-V BOYS','BASKETBALL-V GIRLS','FIELD HOCKEY-V','FOOTBALL-V','GOLF-FALL','GOLF-SPRING','GYMNASTICS',\n",
    "        'Ice Hockey-V BOYS','Ice Hockey-V GIRLS','INDOOR TRACK','LACROSSE-V BOYS','LACROSSE-V GIRLS','RUGBY BOYS','RUGBY GIRLS',\n",
    "       'SOCCER-V BOYS','SOCCER-V GIRLS','SOFTBALL-V','SKI','SWIMMING-GIRLS','SWIMMING-BOYS','TENNIS-BOYS','TENNIS-GIRLS',\n",
    "        'TRACK & FIELD-BOYS','TRACK & FIELD-GIRLS','VOLLEYBALL-V BOYS','VOLLEYBALL-V GIRLS','WRESTLING','X COUNTRY']\n",
    "pd.set_option('display.max_columns', None)\n",
    "pd.set_option('display.max_rows', None)\n",
    "\n",
    "spring_sports = ['BASEBALL-V','GOLF-SPRING','LACROSSE-V BOYS','LACROSSE-V GIRLS',\n",
    "               'RUGBY BOYS','RUGBY GIRLS','SOFTBALL-V','TENNIS-BOYS','TENNIS-GIRLS',\n",
    "              'TRACK & FIELD-BOYS','TRACK & FIELD-GIRLS','VOLLEYBALL-V BOYS']\n",
    "other_sports = [val for val in rows if val not in spring_sports]\n",
    "l = []\n",
    "for col in df:\n",
    "    if col[0] not in other_sports:\n",
    "        df = df.drop(col, axis=1)\n",
    "for col in df:\n",
    "    l.append(col[1])\n",
    "l = list(set(l))\n",
    "print(l)"
   ]
  },
  {
   "cell_type": "code",
   "execution_count": null,
   "id": "2229a963-53ef-46ee-aa70-3d33cad1c8a5",
   "metadata": {},
   "outputs": [],
   "source": [
    "result = pd.DataFrame()\n",
    "\n",
    "for i in range(df.shape[0]):\n",
    "    scname = df.iloc[i][school]\n",
    "    for col in df:\n",
    "        m = [(scname,col[0])]\n",
    "        if col[1] == '1 Game':\n",
    "            m.append(df.iloc[i][col])\n",
    "            m.append(0)\n",
    "            m.append(0)\n",
    "            m.append(0)\n",
    "            m.append(0)\n",
    "        elif col[1] == '2 Game':\n",
    "            m.append(0)\n",
    "            m.append(df.iloc[i][col])\n",
    "            m.append(0)\n",
    "            m.append(0)\n",
    "            m.append(0) \n",
    "        elif col[1] == '1 yr':\n",
    "            m.append(0)\n",
    "            m.append(0) \n",
    "            m.append(df.iloc[i][col])\n",
    "            m.append(0)\n",
    "            m.append(0)\n",
    "        elif col[1] == 'Tour':\n",
    "            m.append(0)\n",
    "            m.append(0) \n",
    "            m.append(0)\n",
    "            m.append(df.iloc[i][col])\n",
    "            m.append(0)\n",
    "        elif col[1] == 'Coach':\n",
    "            m.append(0)\n",
    "            m.append(0) \n",
    "            m.append(0)\n",
    "            m.append(0)\n",
    "            m.append(df.iloc[i][col])\n",
    "        else:\n",
    "            continue\n",
    "        row = pd.DataFrame([m], columns=['SchoolSport','1 Game','2 Game','1 yr','Tour','Coach'])\n",
    "        result = pd.concat([result, row], ignore_index=True)\n",
    "    \n",
    "# result['Total DQs'] = result.sum(axis=1, numeric_only=True)"
   ]
  },
  {
   "cell_type": "code",
   "execution_count": null,
   "id": "4a73a725-1eca-40fd-a694-0ca5df669665",
   "metadata": {},
   "outputs": [],
   "source": [
    "res = pd.DataFrame()\n",
    "for ss in result['SchoolSport'].unique():\n",
    "    cur = result[result['SchoolSport'] == ss]\n",
    "    m = [ss[0], ss[1]]\n",
    "    m.append(cur['1 Game'].sum())\n",
    "    m.append(cur['2 Game'].sum())\n",
    "    m.append(cur['1 yr'].sum())\n",
    "    m.append(cur['Tour'].sum())\n",
    "    m.append(cur['Coach'].sum())\n",
    "    mr = pd.DataFrame([m], columns=['School','Sport','1 Game','2 Game','1 yr','Tour','Coach'])\n",
    "    res = pd.concat([res, mr], ignore_index=True)"
   ]
  },
  {
   "cell_type": "code",
   "execution_count": null,
   "id": "31676519-a29c-420d-a737-daf63661b3ed",
   "metadata": {},
   "outputs": [],
   "source": [
    "df = res\n",
    "df['Total DQs'] = df.sum(axis=1, numeric_only=True)\n",
    "df = df.loc[df['Total DQs'] > 1]\n",
    "print(df)"
   ]
  },
  {
   "cell_type": "code",
   "execution_count": null,
   "id": "614f872d-236a-45c9-9fed-94f09df8ce3a",
   "metadata": {},
   "outputs": [],
   "source": [
    "df = df.loc[df['School'] != 'TOTAL SCHOOLS  (FY24)']\n",
    "df.reset_index(drop=True, inplace=True)\n",
    "print(df)"
   ]
  },
  {
   "cell_type": "code",
   "execution_count": null,
   "id": "59ca590d-552b-4e67-947a-feee7a01e7d3",
   "metadata": {},
   "outputs": [],
   "source": [
    "df.to_csv('dqs_f23w24_varsity.csv')\n",
    "df_fw = df"
   ]
  },
  {
   "cell_type": "code",
   "execution_count": null,
   "id": "69108c32-d196-4115-aa80-a0575cba8b6d",
   "metadata": {},
   "outputs": [],
   "source": [
    "df_all = pd.concat([df_spring, df_fw], ignore_index=True)"
   ]
  },
  {
   "cell_type": "code",
   "execution_count": null,
   "id": "cd724181-e9de-412f-bf1a-ae7ab0e1c977",
   "metadata": {},
   "outputs": [],
   "source": [
    "print(df_all)"
   ]
  },
  {
   "cell_type": "code",
   "execution_count": null,
   "id": "7570d3a4-2ea1-46ae-8385-25f2646f2ba3",
   "metadata": {},
   "outputs": [],
   "source": [
    "df_all = df_all.sort_values('School', ignore_index=True)\n",
    "print(df_all)"
   ]
  },
  {
   "cell_type": "code",
   "execution_count": null,
   "id": "b985ce01-3b47-46c3-a581-cd657733aae6",
   "metadata": {},
   "outputs": [],
   "source": [
    "df_all.to_csv('dqs_sf23-w24_varsity.csv')"
   ]
  },
  {
   "cell_type": "code",
   "execution_count": null,
   "id": "b4da9321-4fb0-4512-8134-3482bd6c1eec",
   "metadata": {},
   "outputs": [],
   "source": []
  }
 ],
 "metadata": {
  "kernelspec": {
   "display_name": "Python 3 (ipykernel)",
   "language": "python",
   "name": "python3"
  },
  "language_info": {
   "codemirror_mode": {
    "name": "ipython",
    "version": 3
   },
   "file_extension": ".py",
   "mimetype": "text/x-python",
   "name": "python",
   "nbconvert_exporter": "python",
   "pygments_lexer": "ipython3",
   "version": "3.12.2"
  }
 },
 "nbformat": 4,
 "nbformat_minor": 5
}
