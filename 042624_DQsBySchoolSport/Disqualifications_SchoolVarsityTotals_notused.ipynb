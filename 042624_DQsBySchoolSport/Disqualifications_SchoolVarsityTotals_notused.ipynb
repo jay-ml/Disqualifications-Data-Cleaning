{
 "cells": [
  {
   "cell_type": "code",
   "execution_count": null,
   "id": "2d3712db-6d8d-496c-93e3-33529acad389",
   "metadata": {},
   "outputs": [],
   "source": [
    "import numpy as np\n",
    "import pandas as pd\n",
    "df = pd.read_csv('dqs_22-23.csv', header=[0,1])"
   ]
  },
  {
   "cell_type": "code",
   "execution_count": null,
   "id": "97e70787-1458-46d5-ae42-096abf787cda",
   "metadata": {},
   "outputs": [],
   "source": [
    "df = df.fillna(0)"
   ]
  },
  {
   "cell_type": "code",
   "execution_count": null,
   "id": "9352a733-c170-456b-b4f2-1fc6edca8965",
   "metadata": {},
   "outputs": [],
   "source": [
    "first_name = \"\"\n",
    "new_columns = []\n",
    "first = True\n",
    "for name in df.columns:\n",
    "    if first:\n",
    "        first = False\n",
    "        new_col = tuple([first_name, name[1]])\n",
    "    elif \"Unnamed\" in name[0]:\n",
    "        new_col = tuple([first_name, name[1]])\n",
    "    else:\n",
    "        first_name = name[0]\n",
    "        new_col = name\n",
    "    new_columns.append(new_col)\n",
    "df.columns = new_columns"
   ]
  },
  {
   "cell_type": "code",
   "execution_count": null,
   "id": "de67dcf0-97ac-48a1-ae24-bbc42b574833",
   "metadata": {},
   "outputs": [],
   "source": [
    "school = ('', 'SCHOOL')\n",
    "rows = ['BASEBALL-V','BASKETBALL-V BOYS','BASKETBALL-V GIRLS','FIELD HOCKEY-V','FOOTBALL-V','GOLF-FALL','GOLF-SPRING','GYMNASTICS',\n",
    "        'ICE HOCKEY-V BOYS','ICE HOCKEY-V GIRLS','INDOOR TRACK','LACROSSE-V BOYS','LACROSSE-V GIRLS','RUGBY BOYS','RUGBY GIRLS',\n",
    "       'SOCCER-V BOYS','SOCCER-V GIRLS','SOFTBALL-V','SKI','SWIMMING-GIRLS','SWIMMING-BOYS','TENNIS-BOYS','TENNIS-GIRLS',\n",
    "        'TRACK & FIELD-BOYS','TRACK & FIELD-GIRLS','VOLLEYBALL-V BOYS','VOLLEYBALL-V GIRLS','WRESTLING','X COUNTRY']\n",
    "pd.set_option('display.max_columns', None)\n",
    "pd.set_option('display.max_rows', None)"
   ]
  },
  {
   "cell_type": "code",
   "execution_count": null,
   "id": "3ea3cc8a-9181-40d9-9176-95291a5ebf11",
   "metadata": {},
   "outputs": [],
   "source": [
    "spring_sports = ['','BASEBALL-V','GOLF-SPRING','LACROSSE-V BOYS','LACROSSE-V GIRLS',\n",
    "               'RUGBY BOYS','RUGBY GIRLS','SOFTBALL-V','TENNIS-BOYS','TENNIS-GIRLS',\n",
    "              'TRACK & FIELD-BOYS','TRACK & FIELD-GIRLS','VOLLEYBALL-V BOYS']\n",
    "other_sports = [val for val in rows if val not in spring_sports]\n",
    "l = []\n",
    "for col in df:\n",
    "    if col[0] not in spring_sports:\n",
    "        df = df.drop(col, axis=1)\n",
    "for col in df:\n",
    "    l.append(col[1])\n",
    "l = list(set(l))\n",
    "print(l)\n",
    "# df.drop([376,377], inplace=True)"
   ]
  },
  {
   "cell_type": "code",
   "execution_count": null,
   "id": "9e2b4968-7b55-423e-81a8-10aaff24e61e",
   "metadata": {},
   "outputs": [],
   "source": [
    "result = pd.DataFrame()\n",
    "\n",
    "for i in range(df.shape[0]):\n",
    "    d = {'1 Game':0, '2 Game':0, '1 yr':0, 'Tour':0, 'Coach':0}\n",
    "    for col in df:\n",
    "        if col[1] == '1 Game':\n",
    "            d['1 Game'] += df.iloc[i][col]\n",
    "        elif col[1] == '2 Game':\n",
    "            d['2 Game'] += df.iloc[i][col]\n",
    "        elif col[1] == '1 yr':\n",
    "            d['1 yr'] += df.iloc[i][col]\n",
    "        elif col[1] == 'Tour':\n",
    "            d['Tour'] += df.iloc[i][col]\n",
    "        elif col[1] == 'Coach':\n",
    "            d['Coach'] += df.iloc[i][col]\n",
    "    d['School'] = df.iloc[i][school]\n",
    "    m = [[d['School'], d['1 Game'], d['2 Game'], d['1 yr'], d['Tour'], d['Coach']]]\n",
    "    row = pd.DataFrame(m, columns=['School','1 Game','2 Game','1 yr','Tour','Coach'])\n",
    "    result = pd.concat([result, row], ignore_index=True)\n",
    "    \n",
    "# new_df = pd.DataFrame(l, columns =['District', 'League', 'Sport','1 Gm','2 Gm','Tour','1 Yr','Coach','Total','NumSchools'])\n",
    "\n",
    "result['Total DQs'] = result.sum(axis=1, numeric_only=True)\n",
    "print(result)\n",
    "df_spring = result\n",
    "# df = df.loc[df['Total DQs'] != 0]\n",
    "# df.reset_index(drop=True, inplace=True)"
   ]
  },
  {
   "cell_type": "code",
   "execution_count": null,
   "id": "56d63a9e-4a0e-4a48-837e-c619f811460e",
   "metadata": {},
   "outputs": [],
   "source": [
    "df_spring.to_csv('dqs_spring_23_varsity.csv')\n",
    "\n",
    "# Use above to save to a csv file. Need to make further edits for now."
   ]
  },
  {
   "cell_type": "code",
   "execution_count": null,
   "id": "530c8c93-ceb8-4c05-9574-7994dc5d619b",
   "metadata": {},
   "outputs": [],
   "source": [
    "df = pd.read_csv('dqs_23-24.csv', header=[0,1])\n",
    "df = df.fillna(0)"
   ]
  },
  {
   "cell_type": "code",
   "execution_count": null,
   "id": "4e7b2071-333c-4144-9756-c92ca5030ddd",
   "metadata": {},
   "outputs": [],
   "source": [
    "first_name = \"\"\n",
    "new_columns = []\n",
    "first = True\n",
    "for name in df.columns:\n",
    "    if first:\n",
    "        first = False\n",
    "        new_col = tuple([first_name, name[1]])\n",
    "    elif \"Unnamed\" in name[0]:\n",
    "        new_col = tuple([first_name, name[1]])\n",
    "    else:\n",
    "        first_name = name[0]\n",
    "        new_col = name\n",
    "    new_columns.append(new_col)\n",
    "df.columns = new_columns"
   ]
  },
  {
   "cell_type": "code",
   "execution_count": null,
   "id": "3c306fd6-d7d7-46cc-8489-4d6c0533ac7d",
   "metadata": {},
   "outputs": [],
   "source": [
    "school = ('', 'SCHOOL')\n",
    "rows = ['','BASEBALL-V','BASKETBALL-V BOYS','BASKETBALL-V GIRLS','FIELD HOCKEY-V','FOOTBALL-V','GOLF-FALL','GOLF-SPRING','GYMNASTICS',\n",
    "        'ICE HOCKEY-V BOYS','ICE HOCKEY-V GIRLS','INDOOR TRACK','LACROSSE-V BOYS','LACROSSE-V GIRLS','RUGBY BOYS','RUGBY GIRLS',\n",
    "       'SOCCER-V BOYS','SOCCER-V GIRLS','SOFTBALL-V','SKI','SWIMMING-GIRLS','SWIMMING-BOYS','TENNIS-BOYS','TENNIS-GIRLS',\n",
    "        'TRACK & FIELD-BOYS','TRACK & FIELD-GIRLS','VOLLEYBALL-V BOYS','VOLLEYBALL-V GIRLS','WRESTLING','X COUNTRY']\n",
    "pd.set_option('display.max_columns', None)\n",
    "pd.set_option('display.max_rows', None)"
   ]
  },
  {
   "cell_type": "code",
   "execution_count": null,
   "id": "b5f6fe30-b9c7-4ccc-bbf6-7d3c6d1f4644",
   "metadata": {},
   "outputs": [],
   "source": [
    "spring_sports = ['BASEBALL-V','GOLF-SPRING','LACROSSE-V BOYS','LACROSSE-V GIRLS',\n",
    "               'RUGBY BOYS','RUGBY GIRLS','SOFTBALL-V','TENNIS-BOYS','TENNIS-GIRLS',\n",
    "              'TRACK & FIELD-BOYS','TRACK & FIELD-GIRLS','VOLLEYBALL-V BOYS']\n",
    "other_sports = [val for val in rows if val not in spring_sports]\n",
    "l = []\n",
    "for col in df:\n",
    "    if col[0] not in other_sports:\n",
    "        df = df.drop(col, axis=1)\n",
    "for col in df:\n",
    "    l.append(col[1])\n",
    "l = list(set(l))\n",
    "print(l)\n",
    "print(df)\n",
    "df.drop([374,375], inplace=True)"
   ]
  },
  {
   "cell_type": "code",
   "execution_count": null,
   "id": "53fb1bf2-216f-4548-ae7d-e0b82e967f2b",
   "metadata": {},
   "outputs": [],
   "source": [
    "result = pd.DataFrame()\n",
    "\n",
    "for i in range(df.shape[0]):\n",
    "    d = {'1 Game':0, '2 Game':0, '1 yr':0, 'Tour':0, 'Coach':0}\n",
    "    for col in df:\n",
    "        if col[1] == '1 Game':\n",
    "            d['1 Game'] += df.iloc[i][col]\n",
    "        elif col[1] == '2 Game':\n",
    "            d['2 Game'] += df.iloc[i][col]\n",
    "        elif col[1] == '1 yr':\n",
    "            d['1 yr'] += df.iloc[i][col]\n",
    "        elif col[1] == 'Tour':\n",
    "            d['Tour'] += df.iloc[i][col]\n",
    "        elif col[1] == 'Coach':\n",
    "            d['Coach'] += df.iloc[i][col]\n",
    "    d['School'] = df.iloc[i][school]\n",
    "    m = [[d['School'], d['1 Game'], d['2 Game'], d['1 yr'], d['Tour'], d['Coach']]]\n",
    "    row = pd.DataFrame(m, columns=['School','1 Game','2 Game','1 yr','Tour','Coach'])\n",
    "    result = pd.concat([result, row], ignore_index=True)\n",
    "    \n",
    "\n",
    "result['Total DQs'] = result.sum(axis=1, numeric_only=True)\n",
    "print(result)\n",
    "df_other = result\n",
    "# df = df.loc[df['Total DQs'] != 0]\n",
    "# df.reset_index(drop=True, inplace=True)"
   ]
  },
  {
   "cell_type": "code",
   "execution_count": null,
   "id": "bf4fd153-9090-4643-935f-e1088f73430a",
   "metadata": {},
   "outputs": [],
   "source": [
    "# Syntax : DataFrame.join(other, on=None, how=’left’, lsuffix=”, rsuffix=”, sort=False)\n",
    "df = pd.merge(df_spring, df_other, on='School')"
   ]
  },
  {
   "cell_type": "code",
   "execution_count": null,
   "id": "70b6acc3-75f0-4afe-8095-be616589a1a9",
   "metadata": {},
   "outputs": [],
   "source": [
    "df['1 Game'] = df['1 Game_x'] + df['1 Game_y']\n",
    "df['2 Game'] = df['2 Game_x'] + df['2 Game_y']\n",
    "df['1 yr'] = df['1 yr_x'] + df['1 yr_y']\n",
    "df['Tour'] = df['Tour_x'] + df['Tour_y']\n",
    "df['Coach'] = df['Coach_x'] + df['Coach_y']\n",
    "df['Total DQs'] = df['Total DQs_x'] + df['Total DQs_y']\n",
    "df = df.drop(['1 Game_x','2 Game_x','1 yr_x','Tour_x','Coach_x','Total DQs_x','1 Game_y','2 Game_y','1 yr_y','Tour_y','Coach_y','Total DQs_y'], axis=1)"
   ]
  },
  {
   "cell_type": "code",
   "execution_count": null,
   "id": "366a03d4-4569-4b0a-af2c-b4052e9733a9",
   "metadata": {},
   "outputs": [],
   "source": [
    "df = df.loc[df['Total DQs'] > 1]\n",
    "df.reset_index(drop=True, inplace=True)\n",
    "print(df)"
   ]
  },
  {
   "cell_type": "code",
   "execution_count": null,
   "id": "a332a6b0-79b6-4f8c-9be0-d121043c86c8",
   "metadata": {},
   "outputs": [],
   "source": [
    "df.to_csv('dqs_s23-w24_varsity.csv')"
   ]
  },
  {
   "cell_type": "code",
   "execution_count": null,
   "id": "1a74bc50-2735-441a-bbda-1e274266aa53",
   "metadata": {},
   "outputs": [],
   "source": [
    "df_other.to_csv('dqs_fw24_varsity.csv')"
   ]
  },
  {
   "cell_type": "code",
   "execution_count": null,
   "id": "19fc6636-d8a0-4a18-ba96-b9aa3ccfd206",
   "metadata": {},
   "outputs": [],
   "source": []
  }
 ],
 "metadata": {
  "kernelspec": {
   "display_name": "Python 3 (ipykernel)",
   "language": "python",
   "name": "python3"
  },
  "language_info": {
   "codemirror_mode": {
    "name": "ipython",
    "version": 3
   },
   "file_extension": ".py",
   "mimetype": "text/x-python",
   "name": "python",
   "nbconvert_exporter": "python",
   "pygments_lexer": "ipython3",
   "version": "3.12.2"
  }
 },
 "nbformat": 4,
 "nbformat_minor": 5
}
