{
 "cells": [
  {
   "cell_type": "code",
   "execution_count": null,
   "id": "c8b3d029-805a-4b5c-b9ea-f0a0790d9acc",
   "metadata": {},
   "outputs": [],
   "source": [
    "import numpy as np\n",
    "import pandas as pd\n",
    "df = pd.read_csv('soccer-infractions_2023-24.csv', header=[0])\n",
    "df_school = pd.read_csv('school_details.csv', header=[0])"
   ]
  },
  {
   "cell_type": "code",
   "execution_count": null,
   "id": "64a38d62-b28e-476c-9ce5-45973457fcce",
   "metadata": {},
   "outputs": [],
   "source": [
    "df = df.fillna('')"
   ]
  },
  {
   "cell_type": "code",
   "execution_count": null,
   "id": "58b45050-4abb-4049-a483-f3587b088b38",
   "metadata": {},
   "outputs": [],
   "source": [
    "result = pd.DataFrame()\n",
    "m = []\n",
    "for index, row in df.loc[:, ['Gender','Penalized School','Position','Type']].iterrows():\n",
    "    m = [row['Gender'], row['Penalized School'], row['Position'], row['Type'] ]\n",
    "    row = pd.DataFrame([m], columns=['Gender','School','Position','Type'])\n",
    "    result = pd.concat([result, row], ignore_index=True)\n",
    "print(result)"
   ]
  },
  {
   "cell_type": "code",
   "execution_count": null,
   "id": "98c01f08-d8ce-4577-84d2-1e94649db77c",
   "metadata": {},
   "outputs": [],
   "source": [
    "for i in range(2,9):\n",
    "    m = []\n",
    "    si = str(i)\n",
    "    for index, row in df.loc[:, ['Gender','Penalized School '+si,'Position '+si,'Type '+si]].iterrows():\n",
    "        if (row['Penalized School '+si] == ''):\n",
    "            continue\n",
    "        m = [row['Gender'], row['Penalized School '+si], row['Position '+si], row['Type '+si] ]\n",
    "        row = pd.DataFrame([m], columns=['Gender','School','Position','Type'])\n",
    "        result = pd.concat([result, row], ignore_index=True)\n",
    "print(result)    "
   ]
  },
  {
   "cell_type": "code",
   "execution_count": null,
   "id": "cc69adf6-6a88-4013-a026-aee552fd4bd5",
   "metadata": {},
   "outputs": [],
   "source": [
    "df = result\n",
    "for index, row in df.iterrows():\n",
    "    row['School'] = row['School'].split('(')[0][:-1]\n",
    "print(df)"
   ]
  },
  {
   "cell_type": "code",
   "execution_count": null,
   "id": "1fb4a41e-d891-4399-a361-d5532d8e8531",
   "metadata": {},
   "outputs": [],
   "source": [
    "df['Yellows'] = df.apply(lambda row: 1 if 'Yellow' in row['Type'] else 0, axis = 1)\n",
    "df['Reds'] = df.apply(lambda row: 1 if 'Red' in row['Type'] else 0, axis=1)"
   ]
  },
  {
   "cell_type": "code",
   "execution_count": null,
   "id": "39365578-ce32-42f4-b33d-2f71d4fb0f40",
   "metadata": {},
   "outputs": [],
   "source": [
    "print(df['Gender'].unique())"
   ]
  },
  {
   "cell_type": "code",
   "execution_count": null,
   "id": "c034e5f8-0a09-4de3-b83b-030cecf52c5a",
   "metadata": {},
   "outputs": [],
   "source": [
    "result = pd.DataFrame()\n",
    "bdf = df[df['Gender'] == 'Boys']\n",
    "gdf = df[df['Gender'] == 'Girls']\n",
    "for sch in bdf['School'].unique():\n",
    "    m = ['Boys']\n",
    "    n = ['Boys']\n",
    "    si = df_school.index[df_school['School'] == sch]\n",
    "    if (len(si) == 0):\n",
    "        continue\n",
    "    else:\n",
    "        si = si[0]\n",
    "    sdf = bdf.loc[bdf['School'] == sch]\n",
    "    m.append(sch)\n",
    "    m.append(df_school.iloc[si]['District'])\n",
    "    m.append(df_school.iloc[si]['League'])\n",
    "    m.append('Coach')\n",
    "    coach_data = sdf.loc[sdf['Position'] == 'Coach']\n",
    "    cys = coach_data.iloc[:,4].sum()\n",
    "    crs = coach_data.iloc[:,5].sum()\n",
    "    m.append(cys)\n",
    "    m.append(crs)\n",
    "    m.append(cys+crs)\n",
    "  \n",
    "    n.append(sch)\n",
    "    n.append(df_school.iloc[si]['District'])\n",
    "    n.append(df_school.iloc[si]['League'])\n",
    "    n.append('Player')\n",
    "    player_data = sdf.loc[sdf['Position'] == 'Player'] \n",
    "    pys = player_data.iloc[:,4].sum()\n",
    "    prs = player_data.iloc[:,5].sum() \n",
    "    n.append(pys)\n",
    "    n.append(prs)\n",
    "    n.append(pys+prs)\n",
    "\n",
    "    row = pd.DataFrame([m,n], columns=['Gender','School','District','League','Position','Yellows','Reds','Total'])\n",
    "    result = pd.concat([result, row], ignore_index=True)\n",
    "\n",
    "for sch in gdf['School'].unique():\n",
    "    m = ['Girls']\n",
    "    n = ['Girls']\n",
    "    si = df_school.index[df_school['School'] == sch]\n",
    "    if (len(si) == 0):\n",
    "        continue\n",
    "    else:\n",
    "        si = si[0]\n",
    "    sdf = gdf.loc[gdf['School'] == sch]\n",
    "    m.append(sch)\n",
    "    m.append(df_school.iloc[si]['District'])\n",
    "    m.append(df_school.iloc[si]['League'])\n",
    "    m.append('Coach')\n",
    "    coach_data = sdf.loc[sdf['Position'] == 'Coach']\n",
    "    cys = coach_data.iloc[:,4].sum()\n",
    "    crs = coach_data.iloc[:,5].sum()\n",
    "    m.append(cys)\n",
    "    m.append(crs)\n",
    "    m.append(cys+crs)\n",
    "  \n",
    "    n.append(sch)\n",
    "    n.append(df_school.iloc[si]['District'])\n",
    "    n.append(df_school.iloc[si]['League'])\n",
    "    n.append('Player')\n",
    "    player_data = sdf.loc[sdf['Position'] == 'Player'] \n",
    "    pys = player_data.iloc[:,4].sum()\n",
    "    prs = player_data.iloc[:,5].sum() \n",
    "    n.append(pys)\n",
    "    n.append(prs)\n",
    "    n.append(pys+prs)\n",
    "\n",
    "    row = pd.DataFrame([m,n], columns=['Gender','School','District','League','Position','Yellows','Reds','Total'])\n",
    "    result = pd.concat([result, row], ignore_index=True)\n",
    "\n",
    "\n",
    "\n",
    "\n",
    "print(result)\n"
   ]
  },
  {
   "cell_type": "code",
   "execution_count": null,
   "id": "f1a204f9-3f0c-4049-a3b6-48d597fc494a",
   "metadata": {},
   "outputs": [],
   "source": [
    "df = result\n",
    "res = pd.DataFrame()\n",
    "bdf = df[df['Gender'] == 'Boys']\n",
    "gdf = df[df['Gender'] == 'Girls']\n",
    "for d in bdf['District'].unique():\n",
    "    for l in bdf['League'].unique():\n",
    "        m = ['Boys',l,d,'Coach']\n",
    "        cdata = bdf.loc[bdf['League'] == l]\n",
    "        cdata = cdata.loc[cdata['District'] == d]\n",
    "        cdata = cdata.loc[cdata['Position'] == 'Coach']\n",
    "        if (cdata.empty):\n",
    "            continue\n",
    "        cys = cdata.iloc[:,5].sum()\n",
    "        crs = cdata.iloc[:,6].sum()\n",
    "        m.append(cys)\n",
    "        m.append(crs)\n",
    "        m.append(cys+crs)\n",
    "        print(m)\n",
    "\n",
    "        n = ['Boys',l,d,'Player']\n",
    "        cdata = bdf.loc[bdf['League'] == l]\n",
    "        cdata = cdata.loc[cdata['District'] == d]\n",
    "        cdata = cdata.loc[cdata['Position'] == 'Player']\n",
    "        cys = cdata.iloc[:,5].sum()\n",
    "        crs = cdata.iloc[:,6].sum()\n",
    "        n.append(cys)\n",
    "        n.append(crs)\n",
    "        n.append(cys+crs)\n",
    "        print(n)\n",
    "\n",
    "        row = pd.DataFrame([m,n], columns=['Gender','League','District','Position','Yellows','Reds','Total'])\n",
    "        res = pd.concat([res, row], ignore_index=True)\n",
    "\n",
    "for d in gdf['District'].unique():\n",
    "    for l in gdf['League'].unique():\n",
    "        m = ['Girls',l,d,'Coach']\n",
    "        cdata = gdf.loc[gdf['League'] == l]\n",
    "        cdata = cdata.loc[cdata['District'] == d]\n",
    "        cdata = cdata.loc[cdata['Position'] == 'Coach']\n",
    "        if (cdata.empty):\n",
    "            continue\n",
    "        cys = cdata.iloc[:,5].sum()\n",
    "        crs = cdata.iloc[:,6].sum()\n",
    "        m.append(cys)\n",
    "        m.append(crs)\n",
    "        m.append(cys+crs)\n",
    "        print(m)\n",
    "\n",
    "        n = ['Girls',l,d,'Player']\n",
    "        cdata = gdf.loc[gdf['League'] == l]\n",
    "        cdata = cdata.loc[cdata['District'] == d]\n",
    "        cdata = cdata.loc[cdata['Position'] == 'Player']\n",
    "        cys = cdata.iloc[:,5].sum()\n",
    "        crs = cdata.iloc[:,6].sum()\n",
    "        n.append(cys)\n",
    "        n.append(crs)\n",
    "        n.append(cys+crs)\n",
    "        print(n)\n",
    "\n",
    "        row = pd.DataFrame([m,n], columns=['Gender','League','District','Position','Yellows','Reds','Total'])\n",
    "        res = pd.concat([res, row], ignore_index=True)\n",
    "\n",
    "print(res)\n",
    "        "
   ]
  },
  {
   "cell_type": "code",
   "execution_count": null,
   "id": "9bfb1670-52c9-4b52-b3bc-11382ec1f118",
   "metadata": {},
   "outputs": [],
   "source": [
    "collected_df = res\n",
    "print(collected_df)"
   ]
  },
  {
   "cell_type": "code",
   "execution_count": null,
   "id": "a8363e99-ffa7-416a-b5dd-b99149786ff6",
   "metadata": {},
   "outputs": [],
   "source": [
    "sorted_df = collected_df.sort_values(by=['Position','Gender','District','League'], ascending=True, ignore_index=True)\n",
    "print(sorted_df)"
   ]
  },
  {
   "cell_type": "code",
   "execution_count": null,
   "id": "53e714f7-e5a7-400c-9f83-a3cff0d0f1bb",
   "metadata": {},
   "outputs": [],
   "source": [
    "sorted_df = sorted_df[sorted_df['Total'] != 0]\n",
    "print(sorted_df)"
   ]
  },
  {
   "cell_type": "code",
   "execution_count": null,
   "id": "6b75873d-558a-47a9-ab32-1e7b969a8997",
   "metadata": {},
   "outputs": [],
   "source": [
    "sorted_df.to_csv('penalty_cards_by_league.csv')"
   ]
  },
  {
   "cell_type": "code",
   "execution_count": null,
   "id": "7962be3d-faa8-4512-85c1-27c56abb9808",
   "metadata": {},
   "outputs": [],
   "source": [
    "print(sorted_df.head())"
   ]
  },
  {
   "cell_type": "code",
   "execution_count": null,
   "id": "6e4697e6-b38a-4c9b-ae70-04500e709eec",
   "metadata": {},
   "outputs": [],
   "source": []
  }
 ],
 "metadata": {
  "kernelspec": {
   "display_name": "Python 3 (ipykernel)",
   "language": "python",
   "name": "python3"
  },
  "language_info": {
   "codemirror_mode": {
    "name": "ipython",
    "version": 3
   },
   "file_extension": ".py",
   "mimetype": "text/x-python",
   "name": "python",
   "nbconvert_exporter": "python",
   "pygments_lexer": "ipython3",
   "version": "3.12.2"
  }
 },
 "nbformat": 4,
 "nbformat_minor": 5
}
