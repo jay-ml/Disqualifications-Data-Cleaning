{
 "cells": [
  {
   "cell_type": "code",
   "execution_count": null,
   "id": "2d3712db-6d8d-496c-93e3-33529acad389",
   "metadata": {},
   "outputs": [],
   "source": [
    "import numpy as np\n",
    "import pandas as pd\n",
    "df = pd.read_csv('league_disqualifications.csv', header=[0,1])"
   ]
  },
  {
   "cell_type": "code",
   "execution_count": null,
   "id": "97e70787-1458-46d5-ae42-096abf787cda",
   "metadata": {},
   "outputs": [],
   "source": [
    "df = df.fillna(0)"
   ]
  },
  {
   "cell_type": "code",
   "execution_count": null,
   "id": "9352a733-c170-456b-b4f2-1fc6edca8965",
   "metadata": {},
   "outputs": [],
   "source": [
    "first_name = \"\"\n",
    "new_columns = []\n",
    "first = True\n",
    "for name in df.columns:\n",
    "    if first:\n",
    "        first = False\n",
    "        new_col = tuple([first_name, name[1]])\n",
    "    elif \"Unnamed\" in name[0]:\n",
    "        new_col = tuple([first_name, name[1]])\n",
    "    else:\n",
    "        first_name = name[0]\n",
    "        new_col = name\n",
    "    new_columns.append(new_col)\n",
    "df.columns = new_columns"
   ]
  },
  {
   "cell_type": "code",
   "execution_count": null,
   "id": "de67dcf0-97ac-48a1-ae24-bbc42b574833",
   "metadata": {},
   "outputs": [],
   "source": [
    "district = ('', 'District')\n",
    "league = ('', 'League')\n",
    "pd.set_option('display.max_columns', None)\n",
    "pd.set_option('display.max_rows', None)"
   ]
  },
  {
   "cell_type": "code",
   "execution_count": null,
   "id": "9e2b4968-7b55-423e-81a8-10aaff24e61e",
   "metadata": {},
   "outputs": [],
   "source": [
    "def generate_new_df(df, district, league):\n",
    "    sums = df.select_dtypes(np.number).sum().rename('totals')\n",
    "    l = []\n",
    "    div = league\n",
    "    n = ''\n",
    "    v = ''\n",
    "    dis = district\n",
    "    cur = []\n",
    "    first = True\n",
    "    second = True\n",
    "    total = 0\n",
    "    for name, val in sums.index:\n",
    "        if first: \n",
    "            first = False\n",
    "        else:\n",
    "            if name == n:\n",
    "                cur.append(sums[(name,val)])\n",
    "                total += sums[(name,val)]\n",
    "            else:\n",
    "                if not second:\n",
    "                    cur.append(total)\n",
    "                    cur.append(df.shape[0])\n",
    "                    l.append(cur)\n",
    "                    total = 0\n",
    "                else:\n",
    "                    second = False\n",
    "                cur = [dis, div, name]\n",
    "                n = name\n",
    "                cur.append(sums[(name,val)])\n",
    "                total += sums[(name,val)]\n",
    "                                       \n",
    "    new_df = pd.DataFrame(l, columns =['District', 'League', 'Sport','1 Gm','2 Gm','Tour','1 Yr','Coach','Total','NumSchools'])\n",
    "    new_df = new_df.loc[new_df['Total'] != 0]\n",
    "    return new_df\n",
    "\n",
    "result = pd.DataFrame()\n",
    "for i in range(1,10):\n",
    "    cur_dis = i\n",
    "    cur_district = df.loc[df[district] == cur_dis]\n",
    "    for lg in cur_district[league].unique():\n",
    "        cur_df = cur_district.loc[cur_district[league] == lg]\n",
    "        created = generate_new_df(cur_df, cur_dis, lg)\n",
    "        result = pd.concat([result, created], ignore_index=True)\n",
    "        \n",
    "result['DQ per School'] = result.apply(lambda row: row['Total'] / row['NumSchools'], axis=1)\n",
    "result = result.loc[result['Sport'] != 'TOTALS']\n",
    "print(result)"
   ]
  },
  {
   "cell_type": "code",
   "execution_count": null,
   "id": "56d63a9e-4a0e-4a48-837e-c619f811460e",
   "metadata": {},
   "outputs": [],
   "source": [
    "result.to_csv('disqualifications.csv')\n",
    "\n",
    "# Use above to save to a csv file. Need to make further edits for now."
   ]
  },
  {
   "cell_type": "code",
   "execution_count": null,
   "id": "99ddf34d-3dc0-458c-8adb-f8a62e7a1196",
   "metadata": {},
   "outputs": [],
   "source": [
    "# result = result.loc[result['Sport'] != 'TOTALS']\n",
    "# by_total = result.sort_values(by='Total', axis=0, ascending=False, ignore_index=True)\n",
    "# by_total.to_csv('dqs_by_total.csv')\n",
    "\n",
    "# Use above to remove rows labeled TOTALS, sort the values based on the column 'Total', and write to a .csv file."
   ]
  },
  {
   "cell_type": "code",
   "execution_count": null,
   "id": "aceb4d3a-1f99-43ae-aba1-af16a785a664",
   "metadata": {},
   "outputs": [],
   "source": [
    "# by_total = result.sort_values(by='Total', axis=0, ascending=False, ignore_index=True)"
   ]
  },
  {
   "cell_type": "code",
   "execution_count": null,
   "id": "b2859c31-a2d0-4246-848c-48e082412e7a",
   "metadata": {},
   "outputs": [],
   "source": [
    "# sports = result['Sport'].unique()\n",
    "# by_sport = pd.DataFrame()\n",
    "# for s in sports:\n",
    "#     current = result.loc[result['Sport'] == s]\n",
    "#     current = current.sort_values(by='Total', axis=0, ascending=False, ignore_index=True)\n",
    "#     by_sport = pd.concat([by_sport, current], ignore_index=True)"
   ]
  },
  {
   "cell_type": "code",
   "execution_count": null,
   "id": "3507a544-bd15-490b-9bbc-ccd6957b0690",
   "metadata": {},
   "outputs": [],
   "source": [
    "## for each unique sport, separate out the dataframe, sort by Total, and then recombine to one full dataframe\n",
    "# by_sport.to_csv('dqs_by_sport.csv')"
   ]
  },
  {
   "cell_type": "code",
   "execution_count": null,
   "id": "a9d5931b-5851-4967-92b6-35c0df1d5f4c",
   "metadata": {},
   "outputs": [],
   "source": [
    "# dqs_by_numSchools = result.sort_values(by='DQ per School', axis=0, ascending=False, ignore_index=True)\n",
    "# dqs_by_numSchools.to_csv('dqs_per_school.csv')"
   ]
  },
  {
   "cell_type": "code",
   "execution_count": null,
   "id": "6c76a485-870f-4e71-b168-24289bf12a3a",
   "metadata": {},
   "outputs": [],
   "source": [
    "sports = result['Sport'].unique()\n",
    "by_sport_df = pd.DataFrame()\n",
    "for s in sports:\n",
    "    current_sport = result.loc[result['Sport'] == s]\n",
    "    ordered_district_df = pd.DataFrame()\n",
    "    districts = result['District'].unique()\n",
    "    for d in districts:\n",
    "        cur = current_sport.loc[current_sport['District'] == d]\n",
    "        cur = cur.sort_values(by='League', axis=0, ascending=True, ignore_index=True)\n",
    "        ordered_district_df = pd.concat([ordered_district_df, cur], ignore_index=True)\n",
    "    by_sport_df = pd.concat([by_sport_df, ordered_district_df], ignore_index=True)\n",
    "print(by_sport_df)\n",
    "# add the totals and make .csv, then you're done pending some Excel formatting."
   ]
  },
  {
   "cell_type": "code",
   "execution_count": null,
   "id": "b9159dc8-0f79-4c53-bdf9-422fbcafeb33",
   "metadata": {},
   "outputs": [],
   "source": [
    "sports = by_sport_df['Sport'].unique()\n",
    "by_sport_with_totals = pd.DataFrame()\n",
    "for s in sports:\n",
    "    current_sport = by_sport_df.loc[by_sport_df['Sport'] == s]\n",
    "    current_sport.loc['TOTAL'] = current_sport.sum()\n",
    "    current_sport.at['TOTAL','District'] = 'T'\n",
    "    current_sport.at['TOTAL','League'] = 'TOTAL'\n",
    "    current_sport.at['TOTAL','Sport'] = s\n",
    "    current_sport.at['TOTAL','NumSchools'] = '-'\n",
    "    current_sport.at['TOTAL','DQ per School'] = '-'\n",
    "    by_sport_with_totals = pd.concat([by_sport_with_totals, current_sport], ignore_index=True)\n",
    "print(by_sport_with_totals)\n",
    "by_sport_with_totals.to_csv('dqs_by_sport_with_totals.csv')"
   ]
  },
  {
   "cell_type": "code",
   "execution_count": null,
   "id": "6786e52a-a6e5-4d53-9066-8452f6658426",
   "metadata": {},
   "outputs": [],
   "source": []
  },
  {
   "cell_type": "code",
   "execution_count": null,
   "id": "530c8c93-ceb8-4c05-9574-7994dc5d619b",
   "metadata": {},
   "outputs": [],
   "source": []
  }
 ],
 "metadata": {
  "kernelspec": {
   "display_name": "Python 3 (ipykernel)",
   "language": "python",
   "name": "python3"
  },
  "language_info": {
   "codemirror_mode": {
    "name": "ipython",
    "version": 3
   },
   "file_extension": ".py",
   "mimetype": "text/x-python",
   "name": "python",
   "nbconvert_exporter": "python",
   "pygments_lexer": "ipython3",
   "version": "3.12.2"
  }
 },
 "nbformat": 4,
 "nbformat_minor": 5
}
